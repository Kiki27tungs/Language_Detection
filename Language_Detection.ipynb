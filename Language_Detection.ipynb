{
 "cells": [
  {
   "cell_type": "code",
   "execution_count": 32,
   "id": "4d8a9d33-bf86-4abe-bb0e-ca6640d6053a",
   "metadata": {},
   "outputs": [],
   "source": [
    "import pandas as pd\n",
    "import numpy as np\n",
    "from sklearn.feature_extraction.text import HashingVectorizer\n",
    "from sklearn.linear_model import SGDClassifier\n",
    "from sklearn.model_selection import train_test_split\n",
    "from sklearn.metrics import accuracy_score"
   ]
  },
  {
   "cell_type": "code",
   "execution_count": 34,
   "id": "c87a59e2-1ed5-4a53-b22d-e4281d3bf31c",
   "metadata": {},
   "outputs": [],
   "source": [
    "data = pd.read_csv(\"sentences.csv\")\n",
    "\n",
    "X = data['sentence']\n",
    "y = data['lan_code']"
   ]
  },
  {
   "cell_type": "code",
   "execution_count": 35,
   "id": "4e4e9300-e693-42bb-af33-a9b13d1043b6",
   "metadata": {},
   "outputs": [],
   "source": [
    "vectorizer = HashingVectorizer(n_features=2**18, alternate_sign=False)"
   ]
  },
  {
   "cell_type": "code",
   "execution_count": 36,
   "id": "f445abd5-462a-4762-baa1-e5cc95f335d8",
   "metadata": {},
   "outputs": [],
   "source": [
    "X_vectorized = vectorizer.transform(X)"
   ]
  },
  {
   "cell_type": "code",
   "execution_count": 37,
   "id": "703f75e0-543c-48ff-83cd-e4de97f62a03",
   "metadata": {},
   "outputs": [],
   "source": [
    "X_train, X_test, y_train, y_test = train_test_split(X_vectorized, y, test_size=0.2, random_state=42)"
   ]
  },
  {
   "cell_type": "code",
   "execution_count": 40,
   "id": "4d76aa69-b2bf-4c23-a98b-a68812a82c5c",
   "metadata": {},
   "outputs": [],
   "source": [
    "model = SGDClassifier(loss='log_loss', max_iter=5, tol=None)\n",
    "classes = np.unique(y)"
   ]
  },
  {
   "cell_type": "code",
   "execution_count": 41,
   "id": "4cc07176-4ebb-4b14-8728-444652504861",
   "metadata": {},
   "outputs": [],
   "source": [
    "for batch_start in range(0, X_train.shape[0], 10000):\n",
    "    X_batch = X_train[batch_start:batch_start+10000]\n",
    "    y_batch = y_train.iloc[batch_start:batch_start+10000]\n",
    "    if batch_start == 0:\n",
    "        model.partial_fit(X_batch, y_batch, classes=classes)\n",
    "    else:\n",
    "        model.partial_fit(X_batch, y_batch)"
   ]
  },
  {
   "cell_type": "code",
   "execution_count": 42,
   "id": "5c8b7fe9-1629-45cb-97db-31cce219aca9",
   "metadata": {},
   "outputs": [],
   "source": [
    "def predict_in_batches(model, X_sparse, batch_size=10000):\n",
    "    y_preds = []\n",
    "    for i in range(0, X_sparse.shape[0], batch_size):\n",
    "        X_batch = X_sparse[i:i+batch_size]\n",
    "        preds = model.predict(X_batch)\n",
    "        y_preds.extend(preds)\n",
    "    return np.array(y_preds)"
   ]
  },
  {
   "cell_type": "code",
   "execution_count": 43,
   "id": "340feeeb-4860-4fbf-8a5c-6dd4fd27c0e6",
   "metadata": {},
   "outputs": [
    {
     "name": "stdout",
     "output_type": "stream",
     "text": [
      "Accuracy: 0.73\n"
     ]
    }
   ],
   "source": [
    "y_pred = predict_in_batches(model, X_test)\n",
    "accuracy = accuracy_score(y_test, y_pred)\n",
    "\n",
    "print(f\"Accuracy: {accuracy:.2f}\")"
   ]
  },
  {
   "cell_type": "code",
   "execution_count": 50,
   "id": "2928aa37-f615-4ed8-984b-e1d58cb7343d",
   "metadata": {},
   "outputs": [
    {
     "name": "stdout",
     "output_type": "stream",
     "text": [
      "fra\n"
     ]
    }
   ],
   "source": [
    "def predict_language(text):\n",
    "    x = vectorizer.transform([text])\n",
    "    return model.predict(x)[0]\n",
    "\n",
    "\n",
    "print(predict_language(\"Bonjour, comment ça va?\"))"
   ]
  },
  {
   "cell_type": "code",
   "execution_count": null,
   "id": "58ecc4e9-c569-46cf-bd26-148cad28f246",
   "metadata": {},
   "outputs": [],
   "source": []
  }
 ],
 "metadata": {
  "kernelspec": {
   "display_name": "Python 3 (ipykernel)",
   "language": "python",
   "name": "python3"
  },
  "language_info": {
   "codemirror_mode": {
    "name": "ipython",
    "version": 3
   },
   "file_extension": ".py",
   "mimetype": "text/x-python",
   "name": "python",
   "nbconvert_exporter": "python",
   "pygments_lexer": "ipython3",
   "version": "3.12.7"
  }
 },
 "nbformat": 4,
 "nbformat_minor": 5
}
